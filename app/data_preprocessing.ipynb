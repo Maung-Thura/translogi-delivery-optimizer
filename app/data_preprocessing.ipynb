{
 "cells": [
  {
   "metadata": {},
   "cell_type": "markdown",
   "source": "## Delivery Transaction Data Preprocessing",
   "id": "360f77c958882c7d"
  },
  {
   "metadata": {},
   "cell_type": "markdown",
   "source": "#### Make sure the latest module changes are referenced",
   "id": "71bc3b696e87170f"
  },
  {
   "metadata": {
    "ExecuteTime": {
     "end_time": "2025-01-20T04:28:55.647750Z",
     "start_time": "2025-01-20T04:28:55.626584Z"
    }
   },
   "cell_type": "code",
   "source": [
    "# make sure the latest module changes are referenced\n",
    "%load_ext autoreload\n",
    "%autoreload 2\n",
    "import data_preprocessing as dp\n",
    "import importlib\n",
    "importlib.reload(dp)"
   ],
   "id": "54944958f3ee76bb",
   "outputs": [
    {
     "name": "stdout",
     "output_type": "stream",
     "text": [
      "The autoreload extension is already loaded. To reload it, use:\n",
      "  %reload_ext autoreload\n"
     ]
    },
    {
     "data": {
      "text/plain": [
       "<module 'data_preprocessing' from '/Users/maungthura2024/Documents/GitHub/translogi-delivery-optimizer/app/data_preprocessing.py'>"
      ]
     },
     "execution_count": 239,
     "metadata": {},
     "output_type": "execute_result"
    }
   ],
   "execution_count": 239
  },
  {
   "metadata": {},
   "cell_type": "markdown",
   "source": "#### Retrieve Delivery Transactions from MySQL",
   "id": "cee7924bd1598ba"
  },
  {
   "cell_type": "code",
   "id": "initial_id",
   "metadata": {
    "collapsed": true,
    "ExecuteTime": {
     "end_time": "2025-01-20T04:28:56.278145Z",
     "start_time": "2025-01-20T04:28:55.782890Z"
    }
   },
   "source": [
    "dp.init()\n",
    "data = dp.retrieve_raw_data('sql.json')"
   ],
   "outputs": [
    {
     "name": "stdout",
     "output_type": "stream",
     "text": [
      "Connected to MySQL successfully!\n",
      "Successfully retrieved the data.\n",
      "MySQL connection closed.\n"
     ]
    }
   ],
   "execution_count": 240
  },
  {
   "metadata": {},
   "cell_type": "markdown",
   "source": "#### Examine the first few rows and dataset summary",
   "id": "49211b599da7bdab"
  },
  {
   "metadata": {
    "ExecuteTime": {
     "end_time": "2025-01-20T04:28:56.464368Z",
     "start_time": "2025-01-20T04:28:56.285090Z"
    }
   },
   "cell_type": "code",
   "source": "data.head(), data.info(), data.describe(include='all')",
   "id": "f6d4585ae9fccc13",
   "outputs": [
    {
     "name": "stdout",
     "output_type": "stream",
     "text": [
      "<class 'pandas.core.frame.DataFrame'>\n",
      "RangeIndex: 43739 entries, 0 to 43738\n",
      "Data columns (total 16 columns):\n",
      " #   Column           Non-Null Count  Dtype          \n",
      "---  ------           --------------  -----          \n",
      " 0   order_id         43739 non-null  object         \n",
      " 1   agent_age        43739 non-null  int64          \n",
      " 2   agent_rating     43685 non-null  float64        \n",
      " 3   store_latitude   43739 non-null  object         \n",
      " 4   store_longitude  43739 non-null  object         \n",
      " 5   drop_latitude    43739 non-null  object         \n",
      " 6   drop_longitude   43739 non-null  object         \n",
      " 7   order_date       43739 non-null  object         \n",
      " 8   order_time       43648 non-null  timedelta64[ns]\n",
      " 9   pickup_time      43739 non-null  timedelta64[ns]\n",
      " 10  weather          43648 non-null  object         \n",
      " 11  traffic          43648 non-null  object         \n",
      " 12  vehicle          43739 non-null  object         \n",
      " 13  area             43739 non-null  object         \n",
      " 14  delivery_time    43739 non-null  int64          \n",
      " 15  category         43739 non-null  object         \n",
      "dtypes: float64(1), int64(2), object(11), timedelta64[ns](2)\n",
      "memory usage: 5.3+ MB\n"
     ]
    },
    {
     "data": {
      "text/plain": [
       "(        order_id  agent_age  agent_rating store_latitude store_longitude  \\\n",
       " 0  aaar186826409         38           5.0    23.33301700     85.31720000   \n",
       " 1  aabo036315307         37           4.5    19.12008300     72.90738500   \n",
       " 2  aabo151954572         39           4.7    26.89231200     75.80689600   \n",
       " 3  aabt975198794         20           4.5    12.31107200     76.65487800   \n",
       " 4  aabx020665819         38           5.0    22.72574800     75.89849700   \n",
       " \n",
       "   drop_latitude drop_longitude  order_date      order_time     pickup_time  \\\n",
       " 0   23.39301700    85.37720000  2022-03-26 0 days 20:20:00 0 days 20:30:00   \n",
       " 1   19.16008300    72.94738500  2022-03-24 0 days 13:45:00 0 days 14:00:00   \n",
       " 2   27.00231200    75.91689600  2022-03-23 0 days 18:35:00 0 days 18:50:00   \n",
       " 3   12.38107200    76.72487800  2022-03-14 0 days 17:50:00 0 days 18:00:00   \n",
       " 4   22.85574700    76.02849700  2022-04-04 0 days 18:55:00 0 days 19:05:00   \n",
       " \n",
       "   weather  traffic      vehicle            area  delivery_time      category  \n",
       " 0  Cloudy     Jam   motorcycle   Metropolitian             145     Cosmetics  \n",
       " 1   Windy    High   motorcycle           Urban             140       Jewelry  \n",
       " 2     Fog  Medium   motorcycle   Metropolitian             210        Sports  \n",
       " 3   Sunny  Medium   motorcycle   Metropolitian              80          Toys  \n",
       " 4  Cloudy  Medium   motorcycle   Metropolitian             195  Pet Supplies  ,\n",
       " None,\n",
       "              order_id     agent_age  agent_rating store_latitude  \\\n",
       " count           43739  43739.000000  43685.000000          43739   \n",
       " unique          43739           NaN           NaN            521   \n",
       " top     aaar186826409           NaN           NaN           0E-8   \n",
       " freq                1           NaN           NaN           3505   \n",
       " mean              NaN     29.567137      4.633780            NaN   \n",
       " std               NaN      5.815155      0.334716            NaN   \n",
       " min               NaN     15.000000      1.000000            NaN   \n",
       " 25%               NaN     25.000000      4.500000            NaN   \n",
       " 50%               NaN     30.000000      4.700000            NaN   \n",
       " 75%               NaN     35.000000      4.900000            NaN   \n",
       " max               NaN     50.000000      6.000000            NaN   \n",
       " \n",
       "        store_longitude drop_latitude drop_longitude  order_date  \\\n",
       " count            43739         43739          43739       43739   \n",
       " unique             415          4367           4367          44   \n",
       " top               0E-8    0.13000000     0.13000000  2022-03-15   \n",
       " freq              3505           328            328        1141   \n",
       " mean               NaN           NaN            NaN         NaN   \n",
       " std                NaN           NaN            NaN         NaN   \n",
       " min                NaN           NaN            NaN         NaN   \n",
       " 25%                NaN           NaN            NaN         NaN   \n",
       " 50%                NaN           NaN            NaN         NaN   \n",
       " 75%                NaN           NaN            NaN         NaN   \n",
       " max                NaN           NaN            NaN         NaN   \n",
       " \n",
       "                        order_time                pickup_time weather traffic  \\\n",
       " count                       43648                      43739   43648   43648   \n",
       " unique                        NaN                        NaN       6       4   \n",
       " top                           NaN                        NaN     Fog    Low    \n",
       " freq                          NaN                        NaN    7440   14999   \n",
       " mean    0 days 17:55:06.790689149  0 days 17:37:48.707560758     NaN     NaN   \n",
       " std     0 days 04:50:28.197461168  0 days 05:21:34.887264844     NaN     NaN   \n",
       " min               0 days 00:00:00            0 days 00:00:00     NaN     NaN   \n",
       " 25%               0 days 15:25:00            0 days 14:35:00     NaN     NaN   \n",
       " 50%               0 days 19:15:00            0 days 19:10:00     NaN     NaN   \n",
       " 75%               0 days 21:35:00            0 days 21:35:00     NaN     NaN   \n",
       " max               0 days 23:55:00            0 days 23:55:00     NaN     NaN   \n",
       " \n",
       "             vehicle            area  delivery_time     category  \n",
       " count         43739           43739   43739.000000        43739  \n",
       " unique            4               4            NaN           16  \n",
       " top     motorcycle   Metropolitian             NaN  Electronics  \n",
       " freq          25527           32698            NaN         2849  \n",
       " mean            NaN             NaN     124.905645          NaN  \n",
       " std             NaN             NaN      51.915451          NaN  \n",
       " min             NaN             NaN      10.000000          NaN  \n",
       " 25%             NaN             NaN      90.000000          NaN  \n",
       " 50%             NaN             NaN     125.000000          NaN  \n",
       " 75%             NaN             NaN     160.000000          NaN  \n",
       " max             NaN             NaN     270.000000          NaN  )"
      ]
     },
     "execution_count": 241,
     "metadata": {},
     "output_type": "execute_result"
    }
   ],
   "execution_count": 241
  },
  {
   "metadata": {},
   "cell_type": "markdown",
   "source": "#### Find columns with missing values",
   "id": "72dbbdd31d84fbb3"
  },
  {
   "metadata": {
    "ExecuteTime": {
     "end_time": "2025-01-20T04:28:56.500384Z",
     "start_time": "2025-01-20T04:28:56.470293Z"
    }
   },
   "cell_type": "code",
   "source": "dp.detect_missing_values(data)",
   "id": "f43ee6bf336f6a18",
   "outputs": [
    {
     "name": "stdout",
     "output_type": "stream",
     "text": [
      "Columns with Missing Values:\n",
      "agent_rating    54\n",
      "order_time      91\n",
      "weather         91\n",
      "traffic         91\n",
      "dtype: int64\n"
     ]
    }
   ],
   "execution_count": 242
  },
  {
   "metadata": {
    "ExecuteTime": {
     "end_time": "2025-01-20T04:28:56.520192Z",
     "start_time": "2025-01-20T04:28:56.506203Z"
    }
   },
   "cell_type": "code",
   "source": [
    "# Checking outliers in numerical columns by using statistical Interquartile Range (IQR) method.\n",
    "for col in ['agent_age', 'agent_rating', 'delivery_time']:\n",
    "    dp.detect_outliers_iqr(data, col)"
   ],
   "id": "2cd32a935e49fed2",
   "outputs": [
    {
     "name": "stdout",
     "output_type": "stream",
     "text": [
      "Column: agent_age\n",
      "Lower Bound: 10.0, Upper Bound: 50.0\n",
      "Number of Outliers: 0\n",
      "--------------------------------------------------\n",
      "Column: agent_rating\n",
      "Lower Bound: 3.8999999999999995, Upper Bound: 5.500000000000001\n",
      "Number of Outliers: 1223\n",
      "--------------------------------------------------\n",
      "Column: delivery_time\n",
      "Lower Bound: -15.0, Upper Bound: 265.0\n",
      "Number of Outliers: 79\n",
      "--------------------------------------------------\n"
     ]
    }
   ],
   "execution_count": 243
  },
  {
   "metadata": {},
   "cell_type": "markdown",
   "source": "#### Visualize the Outliers",
   "id": "84da06887cda246e"
  },
  {
   "metadata": {
    "ExecuteTime": {
     "end_time": "2025-01-20T04:28:56.593475Z",
     "start_time": "2025-01-20T04:28:56.526038Z"
    }
   },
   "cell_type": "code",
   "source": [
    "import matplotlib.pyplot as plt\n",
    "import seaborn as sns\n",
    "\n",
    "plt.figure(figsize=(6, 4))\n",
    "sns.boxplot(y=data['agent_rating'])\n",
    "plt.title(\"Box Plot of Agent Rating\")\n",
    "plt.ylabel(\"Agent Rating\")\n",
    "plt.grid(True)\n",
    "plt.show()"
   ],
   "id": "4bf633ac1f40085f",
   "outputs": [
    {
     "data": {
      "text/plain": [
       "<Figure size 600x400 with 1 Axes>"
      ],
      "image/png": "[encoded data removed]"
     },
     "metadata": {},
     "output_type": "display_data"
    }
   ],
   "execution_count": 244
  },
  {
   "metadata": {
    "ExecuteTime": {
     "end_time": "2025-01-20T04:28:56.662054Z",
     "start_time": "2025-01-20T04:28:56.599440Z"
    }
   },
   "cell_type": "code",
   "source": [
    "plt.figure(figsize=(6, 4))\n",
    "sns.boxplot(y=data['delivery_time'])\n",
    "plt.title(\"Box Plot of Delivery Time\")\n",
    "plt.ylabel(\"Delivery Time\")\n",
    "plt.grid(True)\n",
    "plt.show()\n"
   ],
   "id": "457eff4359465732",
   "outputs": [
    {
     "data": {
      "text/plain": [
       "<Figure size 600x400 with 1 Axes>"
      ],
      "image/png": "[encoded data removed]"
     },
     "metadata": {},
     "output_type": "display_data"
    }
   ],
   "execution_count": 245
  },
  {
   "metadata": {},
   "cell_type": "markdown",
   "source": [
    "#### Handle Missing Values and Outliers\n",
    "By looking at the total number of outliers in each 'agent_rating' and 'delivery_time' columns, I decided not to clip the outliers in both columns as I expect those outliers will give me some valuable insights."
   ],
   "id": "f0b1fde0ecba8481"
  },
  {
   "metadata": {
    "ExecuteTime": {
     "end_time": "2025-01-20T04:28:56.686166Z",
     "start_time": "2025-01-20T04:28:56.668032Z"
    }
   },
   "cell_type": "code",
   "source": [
    "dp.handle_missing_values(data)\n",
    "# dp.handle_outliers(data)"
   ],
   "id": "1ea6cba544962484",
   "outputs": [],
   "execution_count": 246
  },
  {
   "metadata": {},
   "cell_type": "markdown",
   "source": "#### Normalize geolocation data (latitude, longitude)",
   "id": "8e39208cba0afd59"
  },
  {
   "metadata": {
    "ExecuteTime": {
     "end_time": "2025-01-20T04:28:56.741294Z",
     "start_time": "2025-01-20T04:28:56.692136Z"
    }
   },
   "cell_type": "code",
   "source": "dp.normalize_columns(data, ['store_latitude', 'store_longitude', 'drop_latitude', 'drop_longitude'])",
   "id": "6d90a884993fa096",
   "outputs": [],
   "execution_count": 247
  },
  {
   "metadata": {},
   "cell_type": "markdown",
   "source": "#### Create Average Delivery Time by Area",
   "id": "2991d8e359ae7feb"
  },
  {
   "metadata": {
    "ExecuteTime": {
     "end_time": "2025-01-20T04:28:56.761628Z",
     "start_time": "2025-01-20T04:28:56.747829Z"
    }
   },
   "cell_type": "code",
   "source": "data['area'].unique()",
   "id": "5d310eb447dfba98",
   "outputs": [
    {
     "data": {
      "text/plain": [
       "array(['Metropolitian ', 'Urban ', 'Other', 'Semi-Urban '], dtype=object)"
      ]
     },
     "execution_count": 248,
     "metadata": {},
     "output_type": "execute_result"
    }
   ],
   "execution_count": 248
  },
  {
   "metadata": {
    "ExecuteTime": {
     "end_time": "2025-01-20T04:28:56.792187Z",
     "start_time": "2025-01-20T04:28:56.778068Z"
    }
   },
   "cell_type": "code",
   "source": "dp.trim_string_values(data, 'area')",
   "id": "1eff5958efc17994",
   "outputs": [],
   "execution_count": 249
  },
  {
   "metadata": {
    "ExecuteTime": {
     "end_time": "2025-01-20T04:28:56.806432Z",
     "start_time": "2025-01-20T04:28:56.795494Z"
    }
   },
   "cell_type": "code",
   "source": "data['area'].unique()",
   "id": "c4c23a8958364813",
   "outputs": [
    {
     "data": {
      "text/plain": [
       "array(['Metropolitian', 'Urban', 'Other', 'Semi-Urban'], dtype=object)"
      ]
     },
     "execution_count": 250,
     "metadata": {},
     "output_type": "execute_result"
    }
   ],
   "execution_count": 250
  },
  {
   "metadata": {
    "ExecuteTime": {
     "end_time": "2025-01-20T04:28:56.826449Z",
     "start_time": "2025-01-20T04:28:56.812768Z"
    }
   },
   "cell_type": "code",
   "source": "dp.add_average_x_by_y(data, 'delivery_time', 'area', 'avg_delivery_time_by_area')",
   "id": "579307adfc996825",
   "outputs": [],
   "execution_count": 251
  },
  {
   "metadata": {},
   "cell_type": "markdown",
   "source": "#### Impact of traffic and weather on delivery time.",
   "id": "95b272963d4f0423"
  },
  {
   "metadata": {
    "ExecuteTime": {
     "end_time": "2025-01-20T04:28:56.845787Z",
     "start_time": "2025-01-20T04:28:56.832693Z"
    }
   },
   "cell_type": "code",
   "source": "data['traffic'].unique()",
   "id": "e88de0c0fd54f175",
   "outputs": [
    {
     "data": {
      "text/plain": [
       "array(['Jam ', 'High ', 'Medium ', 'Low '], dtype=object)"
      ]
     },
     "execution_count": 252,
     "metadata": {},
     "output_type": "execute_result"
    }
   ],
   "execution_count": 252
  },
  {
   "metadata": {
    "ExecuteTime": {
     "end_time": "2025-01-20T04:28:56.865886Z",
     "start_time": "2025-01-20T04:28:56.851904Z"
    }
   },
   "cell_type": "code",
   "source": "dp.trim_string_values(data, 'traffic')",
   "id": "64354799d16c24a0",
   "outputs": [],
   "execution_count": 253
  },
  {
   "metadata": {
    "ExecuteTime": {
     "end_time": "2025-01-20T04:28:56.883143Z",
     "start_time": "2025-01-20T04:28:56.872109Z"
    }
   },
   "cell_type": "code",
   "source": "data['traffic'].unique()",
   "id": "de6922cdeb64a501",
   "outputs": [
    {
     "data": {
      "text/plain": [
       "array(['Jam', 'High', 'Medium', 'Low'], dtype=object)"
      ]
     },
     "execution_count": 254,
     "metadata": {},
     "output_type": "execute_result"
    }
   ],
   "execution_count": 254
  },
  {
   "metadata": {
    "ExecuteTime": {
     "end_time": "2025-01-20T04:28:56.902538Z",
     "start_time": "2025-01-20T04:28:56.889362Z"
    }
   },
   "cell_type": "code",
   "source": "data['weather'].unique()",
   "id": "1ca11c42deb921fb",
   "outputs": [
    {
     "data": {
      "text/plain": [
       "array(['Cloudy', 'Windy', 'Fog', 'Sunny', 'Stormy', 'Sandstorms'],\n",
       "      dtype=object)"
      ]
     },
     "execution_count": 255,
     "metadata": {},
     "output_type": "execute_result"
    }
   ],
   "execution_count": 255
  },
  {
   "metadata": {
    "ExecuteTime": {
     "end_time": "2025-01-20T04:28:57.105166Z",
     "start_time": "2025-01-20T04:28:56.908917Z"
    }
   },
   "cell_type": "code",
   "source": "dp.add_average_x_by_y_list(data, 'delivery_time', ['traffic', 'weather'], 'avg_delivery_time_by_traffic_and_weather')",
   "id": "649e1ba584ef8831",
   "outputs": [],
   "execution_count": 256
  },
  {
   "metadata": {},
   "cell_type": "markdown",
   "source": "#### Vehicle capacity utilization",
   "id": "835586e1324c7279"
  },
  {
   "metadata": {},
   "cell_type": "markdown",
   "source": "##### Get all types of vehicles",
   "id": "3e0113c4a48cf00"
  },
  {
   "metadata": {
    "ExecuteTime": {
     "end_time": "2025-01-20T04:28:57.125320Z",
     "start_time": "2025-01-20T04:28:57.112526Z"
    }
   },
   "cell_type": "code",
   "source": "data['vehicle'].unique()",
   "id": "8a91cfd026f97c1b",
   "outputs": [
    {
     "data": {
      "text/plain": [
       "array(['motorcycle ', 'van', 'scooter ', 'bicycle '], dtype=object)"
      ]
     },
     "execution_count": 257,
     "metadata": {},
     "output_type": "execute_result"
    }
   ],
   "execution_count": 257
  },
  {
   "metadata": {
    "ExecuteTime": {
     "end_time": "2025-01-20T04:28:57.152956Z",
     "start_time": "2025-01-20T04:28:57.137783Z"
    }
   },
   "cell_type": "code",
   "source": "dp.trim_string_values(data, 'vehicle')",
   "id": "8209272445682fa3",
   "outputs": [],
   "execution_count": 258
  },
  {
   "metadata": {
    "ExecuteTime": {
     "end_time": "2025-01-20T04:28:57.168907Z",
     "start_time": "2025-01-20T04:28:57.156618Z"
    }
   },
   "cell_type": "code",
   "source": "data['vehicle'].unique()",
   "id": "2549904178954eb9",
   "outputs": [
    {
     "data": {
      "text/plain": [
       "array(['motorcycle', 'van', 'scooter', 'bicycle'], dtype=object)"
      ]
     },
     "execution_count": 259,
     "metadata": {},
     "output_type": "execute_result"
    }
   ],
   "execution_count": 259
  },
  {
   "metadata": {},
   "cell_type": "markdown",
   "source": "##### Map arbitrary vehicle capacities to utilization ",
   "id": "9fef2c83e2a11beb"
  },
  {
   "metadata": {
    "ExecuteTime": {
     "end_time": "2025-01-20T04:28:57.188441Z",
     "start_time": "2025-01-20T04:28:57.176058Z"
    }
   },
   "cell_type": "code",
   "source": [
    "vehicle_capacity = {'bicycle': 0.4, 'scooter': 0.8, 'motorcycle': 1, 'van': 6}\n",
    "dp.add_vehicle_capacity_utilization(data, vehicle_capacity, 'vehicle_capacity_utilization')"
   ],
   "id": "8b19f9ab2a507a2f",
   "outputs": [],
   "execution_count": 260
  },
  {
   "metadata": {},
   "cell_type": "markdown",
   "source": "##### Check the dataframe with newly added features",
   "id": "d09896431d7675dd"
  },
  {
   "metadata": {
    "ExecuteTime": {
     "end_time": "2025-01-20T04:28:57.209321Z",
     "start_time": "2025-01-20T04:28:57.195275Z"
    }
   },
   "cell_type": "code",
   "source": "data.head()",
   "id": "f6f0ca68b5c0a02c",
   "outputs": [
    {
     "data": {
      "text/plain": [
       "        order_id  agent_age  agent_rating  store_latitude  store_longitude  \\\n",
       "0  aaar186826409         38           5.0        0.877363         0.982374   \n",
       "1  aabo036315307         37           4.5        0.809211         0.912183   \n",
       "2  aabo151954572         39           4.7        0.934941         0.928583   \n",
       "3  aabt975198794         20           4.5        0.699063         0.933379   \n",
       "4  aabx020665819         38           5.0        0.867539         0.929101   \n",
       "\n",
       "   drop_latitude  drop_longitude  order_date      order_time     pickup_time  \\\n",
       "0       0.753220        0.964019  2022-03-26 0 days 20:20:00 0 days 20:30:00   \n",
       "1       0.616868        0.823654  2022-03-24 0 days 13:45:00 0 days 14:00:00   \n",
       "2       0.869484        0.857187  2022-03-23 0 days 18:35:00 0 days 18:50:00   \n",
       "3       0.398500        0.866312  2022-03-14 0 days 17:50:00 0 days 18:00:00   \n",
       "4       0.735914        0.858448  2022-04-04 0 days 18:55:00 0 days 19:05:00   \n",
       "\n",
       "  weather traffic     vehicle           area  delivery_time      category  \\\n",
       "0  Cloudy     Jam  motorcycle  Metropolitian            145     Cosmetics   \n",
       "1   Windy    High  motorcycle          Urban            140       Jewelry   \n",
       "2     Fog  Medium  motorcycle  Metropolitian            210        Sports   \n",
       "3   Sunny  Medium  motorcycle  Metropolitian             80          Toys   \n",
       "4  Cloudy  Medium  motorcycle  Metropolitian            195  Pet Supplies   \n",
       "\n",
       "   avg_delivery_time_by_area  avg_delivery_time_by_traffic_and_weather  \\\n",
       "0                 129.702459                                174.584473   \n",
       "1                 109.434520                                128.727273   \n",
       "2                 129.702459                                132.194661   \n",
       "3                 129.702459                                 96.020821   \n",
       "4                 129.702459                                136.680720   \n",
       "\n",
       "   vehicle_capacity_utilization  \n",
       "0                         145.0  \n",
       "1                         140.0  \n",
       "2                         210.0  \n",
       "3                          80.0  \n",
       "4                         195.0  "
      ],
      "text/html": [
       "<div>\n",
       "<style scoped>\n",
       "    .dataframe tbody tr th:only-of-type {\n",
       "        vertical-align: middle;\n",
       "    }\n",
       "\n",
       "    .dataframe tbody tr th {\n",
       "        vertical-align: top;\n",
       "    }\n",
       "\n",
       "    .dataframe thead th {\n",
       "        text-align: right;\n",
       "    }\n",
       "</style>\n",
       "<table border=\"1\" class=\"dataframe\">\n",
       "  <thead>\n",
       "    <tr style=\"text-align: right;\">\n",
       "      <th></th>\n",
       "      <th>order_id</th>\n",
       "      <th>agent_age</th>\n",
       "      <th>agent_rating</th>\n",
       "      <th>store_latitude</th>\n",
       "      <th>store_longitude</th>\n",
       "      <th>drop_latitude</th>\n",
       "      <th>drop_longitude</th>\n",
       "      <th>order_date</th>\n",
       "      <th>order_time</th>\n",
       "      <th>pickup_time</th>\n",
       "      <th>weather</th>\n",
       "      <th>traffic</th>\n",
       "      <th>vehicle</th>\n",
       "      <th>area</th>\n",
       "      <th>delivery_time</th>\n",
       "      <th>category</th>\n",
       "      <th>avg_delivery_time_by_area</th>\n",
       "      <th>avg_delivery_time_by_traffic_and_weather</th>\n",
       "      <th>vehicle_capacity_utilization</th>\n",
       "    </tr>\n",
       "  </thead>\n",
       "  <tbody>\n",
       "    <tr>\n",
       "      <th>0</th>\n",
       "      <td>aaar186826409</td>\n",
       "      <td>38</td>\n",
       "      <td>5.0</td>\n",
       "      <td>0.877363</td>\n",
       "      <td>0.982374</td>\n",
       "      <td>0.753220</td>\n",
       "      <td>0.964019</td>\n",
       "      <td>2022-03-26</td>\n",
       "      <td>0 days 20:20:00</td>\n",
       "      <td>0 days 20:30:00</td>\n",
       "      <td>Cloudy</td>\n",
       "      <td>Jam</td>\n",
       "      <td>motorcycle</td>\n",
       "      <td>Metropolitian</td>\n",
       "      <td>145</td>\n",
       "      <td>Cosmetics</td>\n",
       "      <td>129.702459</td>\n",
       "      <td>174.584473</td>\n",
       "      <td>145.0</td>\n",
       "    </tr>\n",
       "    <tr>\n",
       "      <th>1</th>\n",
       "      <td>aabo036315307</td>\n",
       "      <td>37</td>\n",
       "      <td>4.5</td>\n",
       "      <td>0.809211</td>\n",
       "      <td>0.912183</td>\n",
       "      <td>0.616868</td>\n",
       "      <td>0.823654</td>\n",
       "      <td>2022-03-24</td>\n",
       "      <td>0 days 13:45:00</td>\n",
       "      <td>0 days 14:00:00</td>\n",
       "      <td>Windy</td>\n",
       "      <td>High</td>\n",
       "      <td>motorcycle</td>\n",
       "      <td>Urban</td>\n",
       "      <td>140</td>\n",
       "      <td>Jewelry</td>\n",
       "      <td>109.434520</td>\n",
       "      <td>128.727273</td>\n",
       "      <td>140.0</td>\n",
       "    </tr>\n",
       "    <tr>\n",
       "      <th>2</th>\n",
       "      <td>aabo151954572</td>\n",
       "      <td>39</td>\n",
       "      <td>4.7</td>\n",
       "      <td>0.934941</td>\n",
       "      <td>0.928583</td>\n",
       "      <td>0.869484</td>\n",
       "      <td>0.857187</td>\n",
       "      <td>2022-03-23</td>\n",
       "      <td>0 days 18:35:00</td>\n",
       "      <td>0 days 18:50:00</td>\n",
       "      <td>Fog</td>\n",
       "      <td>Medium</td>\n",
       "      <td>motorcycle</td>\n",
       "      <td>Metropolitian</td>\n",
       "      <td>210</td>\n",
       "      <td>Sports</td>\n",
       "      <td>129.702459</td>\n",
       "      <td>132.194661</td>\n",
       "      <td>210.0</td>\n",
       "    </tr>\n",
       "    <tr>\n",
       "      <th>3</th>\n",
       "      <td>aabt975198794</td>\n",
       "      <td>20</td>\n",
       "      <td>4.5</td>\n",
       "      <td>0.699063</td>\n",
       "      <td>0.933379</td>\n",
       "      <td>0.398500</td>\n",
       "      <td>0.866312</td>\n",
       "      <td>2022-03-14</td>\n",
       "      <td>0 days 17:50:00</td>\n",
       "      <td>0 days 18:00:00</td>\n",
       "      <td>Sunny</td>\n",
       "      <td>Medium</td>\n",
       "      <td>motorcycle</td>\n",
       "      <td>Metropolitian</td>\n",
       "      <td>80</td>\n",
       "      <td>Toys</td>\n",
       "      <td>129.702459</td>\n",
       "      <td>96.020821</td>\n",
       "      <td>80.0</td>\n",
       "    </tr>\n",
       "    <tr>\n",
       "      <th>4</th>\n",
       "      <td>aabx020665819</td>\n",
       "      <td>38</td>\n",
       "      <td>5.0</td>\n",
       "      <td>0.867539</td>\n",
       "      <td>0.929101</td>\n",
       "      <td>0.735914</td>\n",
       "      <td>0.858448</td>\n",
       "      <td>2022-04-04</td>\n",
       "      <td>0 days 18:55:00</td>\n",
       "      <td>0 days 19:05:00</td>\n",
       "      <td>Cloudy</td>\n",
       "      <td>Medium</td>\n",
       "      <td>motorcycle</td>\n",
       "      <td>Metropolitian</td>\n",
       "      <td>195</td>\n",
       "      <td>Pet Supplies</td>\n",
       "      <td>129.702459</td>\n",
       "      <td>136.680720</td>\n",
       "      <td>195.0</td>\n",
       "    </tr>\n",
       "  </tbody>\n",
       "</table>\n",
       "</div>"
      ]
     },
     "execution_count": 261,
     "metadata": {},
     "output_type": "execute_result"
    }
   ],
   "execution_count": 261
  },
  {
   "metadata": {
    "ExecuteTime": {
     "end_time": "2025-01-20T04:28:57.251058Z",
     "start_time": "2025-01-20T04:28:57.229821Z"
    }
   },
   "cell_type": "code",
   "source": "data.isnull().sum()",
   "id": "765e01009cb1e859",
   "outputs": [
    {
     "data": {
      "text/plain": [
       "order_id                                    0\n",
       "agent_age                                   0\n",
       "agent_rating                                0\n",
       "store_latitude                              0\n",
       "store_longitude                             0\n",
       "drop_latitude                               0\n",
       "drop_longitude                              0\n",
       "order_date                                  0\n",
       "order_time                                  0\n",
       "pickup_time                                 0\n",
       "weather                                     0\n",
       "traffic                                     0\n",
       "vehicle                                     0\n",
       "area                                        0\n",
       "delivery_time                               0\n",
       "category                                    0\n",
       "avg_delivery_time_by_area                   0\n",
       "avg_delivery_time_by_traffic_and_weather    0\n",
       "vehicle_capacity_utilization                0\n",
       "dtype: int64"
      ]
     },
     "execution_count": 262,
     "metadata": {},
     "output_type": "execute_result"
    }
   ],
   "execution_count": 262
  },
  {
   "metadata": {},
   "cell_type": "markdown",
   "source": "##### Remove the unique order id column",
   "id": "9907395c5a34980a"
  },
  {
   "metadata": {
    "ExecuteTime": {
     "end_time": "2025-01-20T04:28:57.293498Z",
     "start_time": "2025-01-20T04:28:57.278701Z"
    }
   },
   "cell_type": "code",
   "source": "data['order_id'].nunique()",
   "id": "717d59ad3997af9e",
   "outputs": [
    {
     "data": {
      "text/plain": [
       "43739"
      ]
     },
     "execution_count": 263,
     "metadata": {},
     "output_type": "execute_result"
    }
   ],
   "execution_count": 263
  },
  {
   "metadata": {
    "ExecuteTime": {
     "end_time": "2025-01-20T04:28:57.335256Z",
     "start_time": "2025-01-20T04:28:57.324298Z"
    }
   },
   "cell_type": "code",
   "source": "len(data)",
   "id": "9351216b9b87c8c0",
   "outputs": [
    {
     "data": {
      "text/plain": [
       "43739"
      ]
     },
     "execution_count": 264,
     "metadata": {},
     "output_type": "execute_result"
    }
   ],
   "execution_count": 264
  },
  {
   "metadata": {
    "ExecuteTime": {
     "end_time": "2025-01-20T04:28:57.362760Z",
     "start_time": "2025-01-20T04:28:57.350059Z"
    }
   },
   "cell_type": "code",
   "source": "data = data.drop('order_id', axis=1) ",
   "id": "14875f8a2172b33b",
   "outputs": [],
   "execution_count": 265
  },
  {
   "metadata": {},
   "cell_type": "markdown",
   "source": "#### Save the preprocessed delivery transaction data back into MySQL",
   "id": "4bacb2c2a4f6d02b"
  },
  {
   "metadata": {
    "ExecuteTime": {
     "end_time": "2025-01-20T04:28:57.395417Z",
     "start_time": "2025-01-20T04:28:57.374286Z"
    }
   },
   "cell_type": "code",
   "source": "data.info()",
   "id": "70430829e5156200",
   "outputs": [
    {
     "name": "stdout",
     "output_type": "stream",
     "text": [
      "<class 'pandas.core.frame.DataFrame'>\n",
      "RangeIndex: 43739 entries, 0 to 43738\n",
      "Data columns (total 18 columns):\n",
      " #   Column                                    Non-Null Count  Dtype          \n",
      "---  ------                                    --------------  -----          \n",
      " 0   agent_age                                 43739 non-null  int64          \n",
      " 1   agent_rating                              43739 non-null  float64        \n",
      " 2   store_latitude                            43739 non-null  float64        \n",
      " 3   store_longitude                           43739 non-null  float64        \n",
      " 4   drop_latitude                             43739 non-null  float64        \n",
      " 5   drop_longitude                            43739 non-null  float64        \n",
      " 6   order_date                                43739 non-null  object         \n",
      " 7   order_time                                43739 non-null  timedelta64[ns]\n",
      " 8   pickup_time                               43739 non-null  timedelta64[ns]\n",
      " 9   weather                                   43739 non-null  object         \n",
      " 10  traffic                                   43739 non-null  object         \n",
      " 11  vehicle                                   43739 non-null  object         \n",
      " 12  area                                      43739 non-null  object         \n",
      " 13  delivery_time                             43739 non-null  int64          \n",
      " 14  category                                  43739 non-null  object         \n",
      " 15  avg_delivery_time_by_area                 43739 non-null  float64        \n",
      " 16  avg_delivery_time_by_traffic_and_weather  43739 non-null  float64        \n",
      " 17  vehicle_capacity_utilization              43739 non-null  float64        \n",
      "dtypes: float64(8), int64(2), object(6), timedelta64[ns](2)\n",
      "memory usage: 6.0+ MB\n"
     ]
    }
   ],
   "execution_count": 266
  },
  {
   "metadata": {
    "ExecuteTime": {
     "end_time": "2025-01-20T04:28:57.595497Z",
     "start_time": "2025-01-20T04:28:57.402767Z"
    }
   },
   "cell_type": "code",
   "source": [
    "# Convert timedelta to string in HH:MM:SS format\n",
    "data['order_time'] = data['order_time'].apply(lambda x: str(x).split()[-1])\n",
    "data['pickup_time'] = data['pickup_time'].apply(lambda x: str(x).split()[-1])"
   ],
   "id": "df392395b4be489f",
   "outputs": [],
   "execution_count": 267
  },
  {
   "metadata": {
    "ExecuteTime": {
     "end_time": "2025-01-20T04:29:14.409869Z",
     "start_time": "2025-01-20T04:28:57.602763Z"
    }
   },
   "cell_type": "code",
   "source": "dp.save_preprocessed_data(data, 'sql.json')",
   "id": "45762060f3ec0c37",
   "outputs": [
    {
     "name": "stdout",
     "output_type": "stream",
     "text": [
      "Connected to MySQL successfully!\n",
      "Preprocessed data inserted successfully into MySQL database.\n",
      "MySQL connection closed.\n"
     ]
    }
   ],
   "execution_count": 268
  }
 ],
 "metadata": {
  "kernelspec": {
   "display_name": "Python 3",
   "language": "python",
   "name": "python3"
  },
  "language_info": {
   "codemirror_mode": {
    "name": "ipython",
    "version": 2
   },
   "file_extension": ".py",
   "mimetype": "text/x-python",
   "name": "python",
   "nbconvert_exporter": "python",
   "pygments_lexer": "ipython2",
   "version": "2.7.6"
  }
 },
 "nbformat": 4,
 "nbformat_minor": 5
}
